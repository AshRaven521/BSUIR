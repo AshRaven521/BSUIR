{
 "cells": [
  {
   "cell_type": "code",
   "execution_count": 36,
   "metadata": {
    "pycharm": {
     "name": "#%%\n"
    }
   },
   "outputs": [],
   "source": [
    "import scipy.stats as sps\n",
    "import numpy as np\n",
    "import matplotlib.pyplot as plt\n",
    "%matplotlib inline"
   ]
  },
  {
   "cell_type": "code",
   "execution_count": 37,
   "metadata": {
    "pycharm": {
     "name": "#%%\n"
    }
   },
   "outputs": [],
   "source": [
    "def show_pdf(pdf,  xmin, xmax, ymax, grid_size, distr_name, **kwargs):\n",
    "    \"\"\"\n",
    "    Рисует график плотности непрерывного распределения\n",
    "\n",
    "    pdf - плотность\n",
    "    xmin, xmax - границы графика по оси x\n",
    "    ymax - граница графика по оси y\n",
    "    grid_size - размер сетки, по которой рисуется график\n",
    "    distr_name - название распределения\n",
    "    kwargs - параметры плотности\n",
    "    \"\"\"\n",
    "\n",
    "    grid = np.linspace(xmin, xmax, grid_size)\n",
    "    plt.figure(figsize=(12, 5))\n",
    "    plt.plot(grid, pdf(grid, **kwargs), lw=5)\n",
    "    plt.grid(ls=':')\n",
    "    plt.xlabel('Значение', fontsize=18)\n",
    "    plt.ylabel('Плотность', fontsize=18)\n",
    "    plt.xlim((xmin, xmax))\n",
    "    plt.ylim((None, ymax))\n",
    "    title = 'Плотность {}'.format(distr_name)\n",
    "    plt.title(title.format(**kwargs), fontsize=20)\n",
    "    plt.show()\n"
   ]
  },
  {
   "cell_type": "code",
   "execution_count": null,
   "metadata": {
    "pycharm": {
     "name": "#%%\n"
    }
   },
   "outputs": [],
   "source": []
  },
  {
   "cell_type": "code",
   "execution_count": 38,
   "metadata": {
    "pycharm": {
     "name": "#%%\n"
    }
   },
   "outputs": [
    {
     "data": {
      "text/plain": [
       "array([2.20569829, 3.06911148, 2.56749234, 1.65517293, 3.33283024,\n",
       "       3.42347289, 1.02034621, 1.96660453, 0.19562997, 2.12574067])"
      ]
     },
     "execution_count": 38,
     "metadata": {},
     "output_type": "execute_result"
    }
   ],
   "source": [
    "res = np.random.uniform(0, 5, 1000000)\n",
    "\n",
    "# посмотрим на первые десять значений\n",
    "res[:10]"
   ]
  },
  {
   "cell_type": "code",
   "execution_count": 39,
   "metadata": {
    "pycharm": {
     "name": "#%%\n"
    }
   },
   "outputs": [
    {
     "data": {
      "image/png": "[encoded data removed]",
      "text/plain": [
       "<Figure size 640x480 with 1 Axes>"
      ]
     },
     "metadata": {},
     "output_type": "display_data"
    }
   ],
   "source": [
    "plt.hist(res[:10000])\n",
    "plt.show()"
   ]
  },
  {
   "cell_type": "code",
   "execution_count": 40,
   "metadata": {
    "pycharm": {
     "name": "#%%\n"
    }
   },
   "outputs": [],
   "source": [
    "import random\n",
    "# Метод обратных функций\n",
    "def random_values_generator(left, right, attmp):\n",
    "    res = []\n",
    "    for i in range(1, attmp):\n",
    "        value = (right - left) * random.random() + left\n",
    "        res.append(value)\n",
    "    return res"
   ]
  },
  {
   "cell_type": "code",
   "execution_count": 60,
   "metadata": {
    "pycharm": {
     "name": "#%%\n"
    }
   },
   "outputs": [
    {
     "name": "stdout",
     "output_type": "stream",
     "text": [
      "Введите границу слева: 2\n",
      "Введите границу справа: 5\n"
     ]
    },
    {
     "data": {
      "image/png": "[encoded data removed]",
      "text/plain": [
       "<Figure size 640x480 with 1 Axes>"
      ]
     },
     "metadata": {},
     "output_type": "display_data"
    }
   ],
   "source": [
    "left = int(input(\"Введите границу слева: \"))\n",
    "right = int(input(\"Введите границу справа: \"))\n",
    "# Количество попыток\n",
    "attmp = 100000\n",
    "\n",
    "res = random_values_generator(left, right, attmp)\n",
    "plt.hist(res)\n",
    "plt.show()"
   ]
  },
  {
   "cell_type": "code",
   "execution_count": 61,
   "metadata": {
    "pycharm": {
     "name": "#%%\n"
    }
   },
   "outputs": [
    {
     "ename": "SyntaxError",
     "evalue": "invalid syntax (3252749859.py, line 3)",
     "output_type": "error",
     "traceback": [
      "\u001B[1;36m  File \u001B[1;32m\"C:\\Users\\Ivan\\AppData\\Local\\Temp\\ipykernel_23196\\3252749859.py\"\u001B[1;36m, line \u001B[1;32m3\u001B[0m\n\u001B[1;33m    distr_name=r'$U(' left, ',', right, ',)$', loc=left, scale=right\u001B[0m\n\u001B[1;37m                         ^\u001B[0m\n\u001B[1;31mSyntaxError\u001B[0m\u001B[1;31m:\u001B[0m invalid syntax\n"
     ]
    }
   ],
   "source": [
    "show_pdf(\n",
    "    pdf=sps.uniform.pdf, xmin=left - 5, xmax=right + 5, ymax=1, grid_size=10000,\n",
    "    distr_name=r'$U(' left, ',', right, ',)$', loc=left, scale=right\n",
    ")"
   ]
  },
  {
   "cell_type": "code",
   "execution_count": 43,
   "metadata": {
    "pycharm": {
     "name": "#%%\n"
    }
   },
   "outputs": [],
   "source": [
    "M = (left + right) / 2 # мат ожидание\n"
   ]
  },
  {
   "cell_type": "code",
   "execution_count": 44,
   "metadata": {
    "pycharm": {
     "name": "#%%\n"
    }
   },
   "outputs": [],
   "source": [
    "D = (right - left) * (right - left) / 12 # дисперсия\n"
   ]
  },
  {
   "cell_type": "code",
   "execution_count": 45,
   "metadata": {
    "pycharm": {
     "name": "#%%\n"
    }
   },
   "outputs": [
    {
     "name": "stdout",
     "output_type": "stream",
     "text": [
      "3.5 0.75 0.8660254037844387\n"
     ]
    }
   ],
   "source": [
    "import math\n",
    "SC = (right - left) / (2 * math.sqrt(3))\n",
    "print(M, D, SC)"
   ]
  },
  {
   "cell_type": "code",
   "execution_count": 46,
   "metadata": {
    "pycharm": {
     "name": "#%%\n"
    }
   },
   "outputs": [
    {
     "name": "stdout",
     "output_type": "stream",
     "text": [
      "3.498870023609971 0.7454667804833984 0.8634041814141268\n"
     ]
    }
   ],
   "source": [
    "m = 0.0 #точечная оценка матожидания\n",
    "d = 0.0 # точечная оценка дисперсии\n",
    "sc = 0\n",
    "for i in res:\n",
    "    m = m + i\n",
    "m = m / attmp\n",
    "\n",
    "for i in res:\n",
    "    d = d + math.pow((i - m), 2)\n",
    "d = d / attmp\n",
    "\n",
    "sc = math.sqrt(d)\n",
    "\n",
    "print(m, d, sc)\n"
   ]
  },
  {
   "cell_type": "code",
   "execution_count": 47,
   "metadata": {
    "pycharm": {
     "name": "#%%\n"
    }
   },
   "outputs": [
    {
     "name": "stdout",
     "output_type": "stream",
     "text": [
      "2.0034101139332874 4.994329933286655\n"
     ]
    }
   ],
   "source": [
    "# точеные оценки left, right\n",
    "a1 = m - math.sqrt(3)*sc\n",
    "a2 = m + math.sqrt(3)*sc\n",
    "print(a1, a2)\n"
   ]
  },
  {
   "cell_type": "code",
   "execution_count": 48,
   "metadata": {
    "pycharm": {
     "name": "#%%\n"
    }
   },
   "outputs": [
    {
     "name": "stdout",
     "output_type": "stream",
     "text": [
      "4.999835214688937, 4.999982433953272\n"
     ]
    }
   ],
   "source": [
    "# доверительный интервал right\n",
    "mx=res[0]\n",
    "for i in res:\n",
    "    if i > mx:\n",
    "        mx = i\n",
    "\n",
    "y = 0.90\n",
    "e1 = (1 - y) / 2\n",
    "e2 = e1\n",
    "\n",
    "print('%s, %s'%(mx / (math.pow((1 - e2),1 / attmp)), mx / (math.pow(e1, 1/attmp)  ) ))"
   ]
  },
  {
   "cell_type": "code",
   "execution_count": 49,
   "metadata": {
    "pycharm": {
     "name": "#%%\n"
    }
   },
   "outputs": [
    {
     "name": "stdout",
     "output_type": "stream",
     "text": [
      "0.33434530525669476\n"
     ]
    }
   ],
   "source": [
    "a = 0.95 #уровень значимости\n",
    "k = 9 # кол-во степеней свободы\n",
    "#найдем предполагаемую плотность\n",
    "f = 1 / (a2 - a1)\n",
    "print(f)"
   ]
  },
  {
   "cell_type": "code",
   "execution_count": 50,
   "metadata": {
    "pycharm": {
     "name": "#%%\n"
    }
   },
   "outputs": [],
   "source": [
    "from scipy import stats\n",
    "def chiSquareValue(self, alpha, freedom):\n",
    "    return stats.chi2.ppf(alpha, freedom)"
   ]
  },
  {
   "cell_type": "code",
   "execution_count": 51,
   "metadata": {
    "pycharm": {
     "name": "#%%\n"
    }
   },
   "outputs": [
    {
     "name": "stdout",
     "output_type": "stream",
     "text": [
      "100733.72514319631\n"
     ]
    }
   ],
   "source": [
    "print(stats.chi2.ppf(0.95, attmp - 3))"
   ]
  },
  {
   "cell_type": "code",
   "execution_count": 52,
   "metadata": {
    "pycharm": {
     "name": "#%%\n"
    }
   },
   "outputs": [],
   "source": [
    "res.sort()"
   ]
  },
  {
   "cell_type": "code",
   "execution_count": 53,
   "metadata": {
    "pycharm": {
     "name": "#%%\n"
    }
   },
   "outputs": [
    {
     "name": "stdout",
     "output_type": "stream",
     "text": [
      "14399.136485724157 1.0029605795294598\n",
      "True\n"
     ]
    }
   ],
   "source": [
    "# проверка гипотезы (нахождение хи-квадрат эмпирического и теор)\n",
    "xhi = 0\n",
    "sm = 0\n",
    "for i, val in enumerate(res):\n",
    "    if i + 1 >= len(res):\n",
    "        break\n",
    "    n_i = attmp * f * (res[i + 1] - res[i])\n",
    "    sm += n_i\n",
    "    xhi = xhi + (n_i - round(n_i)) * (n_i - round(n_i)) / n_i\n",
    "print(xhi, sm/attmp)\n",
    "# Если эмпирический меньше теоритического, то теория подтверждается\n",
    "print(xhi < stats.chi2.ppf(0.95, attmp - 3))"
   ]
  },
  {
   "cell_type": "code",
   "execution_count": 54,
   "metadata": {
    "pycharm": {
     "name": "#%%\n"
    }
   },
   "outputs": [
    {
     "name": "stdout",
     "output_type": "stream",
     "text": [
      "Введите параметр n биномиального распределения: 20\n",
      "Введите параметр p биномиального распределения: 0.4\n",
      "[0, 1, 2, 3, 4, 5, 6, 7, 8, 9, 10, 11, 12, 13, 14, 15, 16, 17, 18, 19, 20]\n"
     ]
    },
    {
     "data": {
      "image/png": "[encoded data removed]",
      "text/plain": [
       "<Figure size 640x480 with 1 Axes>"
      ]
     },
     "metadata": {},
     "output_type": "display_data"
    }
   ],
   "source": [
    "#Задание №2\n",
    "n = int(input(\"Введите параметр n биномиального распределения: \"))\n",
    "p = float(input(\"Введите параметр p биномиального распределения: \"))\n",
    "def factorial(n):\n",
    "    x = 1\n",
    "    for i in range(1, n+1):\n",
    "        x *= i\n",
    "    return x\n",
    "\n",
    "def combination(n, k):\n",
    "    return factorial(n)/(factorial(k)*factorial(n-k))\n",
    "\n",
    "def binompmf(k,n,p):\n",
    "    return combination(n,k)*(p**k)*((1-p)**(n-k))\n",
    "\n",
    "r = list(range(n + 1))\n",
    "dist = [binompmf(k, n, p) for k in r]\n",
    "import matplotlib.pyplot as plt\n",
    "\n",
    "print(r)\n",
    "plt.bar(r, dist)\n",
    "plt.show()"
   ]
  },
  {
   "cell_type": "code",
   "execution_count": 55,
   "metadata": {
    "pycharm": {
     "name": "#%%\n"
    }
   },
   "outputs": [
    {
     "name": "stdout",
     "output_type": "stream",
     "text": [
      "Введите n для биномиального распредления: 10\n",
      "Введите вероятность успеха для каждого испытания: 0.3\n",
      "[3, 3, 2, 6, 3, 5, 3, 4, 2, 1, 4, 4, 3, 3, 5, 2, 1, 0, 3, 2, 4, 2, 3, 3, 3, 3, 6, 1, 4, 4, 2, 2, 4, 4, 1, 4, 4, 2, 3, 6, 4, 7, 5, 3, 2, 4, 4, 3, 4, 3, 2, 4, 3, 3, 3, 4, 6, 6, 3, 1, 7, 2, 1, 4, 6, 3, 4, 2, 3, 4, 2, 2, 0, 4, 3, 4, 2, 3, 1, 3, 2, 3, 3, 3, 5, 3, 3, 3, 1, 4, 2, 5, 2, 2, 6, 3, 3, 2, 1, 5, 4, 4, 5, 1, 2, 2, 1, 1, 7, 3, 0, 3, 1, 3, 4, 3, 1, 3, 4, 3, 3, 3, 3, 2, 3, 5, 4, 3, 3, 3, 0, 3, 4, 1, 2, 4, 5, 3, 0, 3, 1, 4, 6, 5, 3, 0, 5, 3, 4, 3, 4, 3, 1, 6, 4, 5, 4, 6, 2, 3, 3, 1, 2, 5, 5, 0, 2, 3, 7, 4, 6, 3, 3, 1, 6, 4, 2, 5, 4, 0, 1, 5, 1, 3, 3, 0, 4, 1, 4, 3, 1, 3, 4, 3, 1, 5, 6, 2, 2, 5, 1, 4, 1, 2, 3, 4, 6, 1, 4, 3, 4, 1, 1, 3, 2, 3, 2, 3, 3, 2, 2, 1, 0, 3, 2, 3, 3, 3, 4, 6, 1, 4, 4, 3, 2, 1, 2, 5, 4, 2, 1, 4, 3, 4, 2, 3, 4, 6, 2, 1, 2, 3, 2, 5, 3, 3, 1, 5, 4, 4, 3, 3, 2, 4, 4, 5, 2, 3, 4, 2, 3, 1, 3, 6, 3, 4, 4, 5, 5, 4, 2, 1, 2, 3, 4, 2, 1, 3, 7, 3, 3, 3, 3, 4, 4, 4, 5, 3, 1, 2, 4, 2, 5, 3, 3, 7, 7, 3, 0, 1, 3, 2, 4, 1, 1, 2, 5, 4, 4, 3, 4, 3, 5, 3, 1, 3, 1, 3, 1, 4, 1, 4, 3, 2, 3, 2, 3, 3, 3, 1, 6, 3, 2, 2, 4, 7, 2, 2, 4, 2, 5, 3, 2, 5, 6, 2, 5, 3, 3, 1, 2, 2, 3, 2, 6, 2, 3, 3, 5, 2, 3, 2, 1, 5, 3, 2, 4, 3, 3, 4, 2, 2, 3, 6, 5, 3, 2, 2, 2, 4, 4, 3, 2, 1, 1, 3, 2, 3, 3, 4, 3, 2, 3, 5, 4, 2, 3, 2, 1, 4, 5, 3, 3, 1, 2, 4, 2, 1, 4, 2, 3, 3, 2, 1, 3, 1, 3, 2, 5, 5, 3, 1, 2, 2, 1, 3, 3, 2, 3, 2, 3, 2, 3, 3, 4, 3, 0, 2, 2, 4, 6, 0, 6, 3, 3, 2, 2, 4, 1, 6, 7, 3, 3, 3, 3, 4, 3, 5, 3, 5, 4, 3, 3, 2, 7, 4, 5, 6, 2, 2, 5, 4, 3, 6, 4, 4, 3, 3, 2, 4, 5, 5, 2, 2, 3, 3, 3, 5, 4, 6, 1, 1, 4, 3, 4, 3, 3, 2, 2, 2, 2, 4, 3, 0, 3, 3, 3, 2, 3, 5, 3, 3, 4, 1, 2, 2, 2, 1, 1, 4, 2, 3, 3, 0, 1, 3, 3, 3, 2, 3, 2, 3, 3, 4, 3, 4, 4, 4, 3, 4, 4, 4, 2, 5, 3, 2, 1, 2, 6, 6, 4, 3, 3, 4, 4, 4, 1, 3, 3, 1, 1, 1, 4, 2, 3, 1, 4, 2, 4, 2, 4, 3, 4, 2, 2, 2, 3, 0, 4, 4, 4, 5, 4, 4, 3, 1, 3, 4, 6, 5, 3, 4, 3, 2, 4, 2, 5, 0, 4, 4, 2, 2, 4, 3, 4, 4, 6, 2, 4, 1, 4, 2, 3, 2, 0, 2, 2, 6, 5, 4, 5, 5, 1, 5, 4, 2, 3, 1, 2, 2, 2, 2, 2, 2, 5, 4, 3, 5, 1, 3, 2, 3, 3, 3, 4, 6, 6, 5, 0, 3, 4, 3, 1, 1, 2, 3, 3, 3, 7, 1, 2, 3, 4, 1, 2, 5, 3, 4, 3, 3, 4, 4, 2, 3, 3, 5, 3, 3, 4, 2, 3, 7, 3, 1, 1, 6, 4, 5, 2, 2, 3, 1, 2, 0, 2, 5, 4, 5, 4, 1, 4, 1, 2, 4, 2, 1, 3, 4, 2, 1, 3, 1, 3, 4, 3, 1, 4, 5, 0, 1, 4, 6, 4, 2, 1, 3, 4, 4, 2, 4, 3, 2, 1, 5, 3, 2, 3, 5, 3, 1, 3, 0, 2, 2, 1, 1, 3, 1, 1, 1, 2, 2, 5, 2, 2, 4, 2, 2, 3, 2, 4, 2, 4, 5, 1, 2, 1, 3, 2, 2, 3, 2, 3, 2, 5, 4, 6, 2, 3, 2, 2, 4, 2, 3, 2, 2, 3, 2, 2, 4, 6, 3, 4, 6, 2, 2, 2, 2, 4, 6, 4, 3, 1, 3, 2, 0, 2, 3, 2, 3, 1, 4, 3, 3, 4, 5, 3, 3, 2, 4, 3, 2, 3, 5, 4, 3, 5, 5, 3, 4, 5, 6, 3, 3, 3, 5, 4, 5, 7, 3, 4, 5, 3, 3, 3, 1, 4, 5, 4, 5, 3, 2, 2, 3, 3, 2, 4, 2, 2, 3, 4, 5, 2, 3, 2, 4, 1, 2, 2, 2, 2, 2, 3, 6, 5, 4, 2, 1, 6, 5, 0, 3, 3, 0, 3, 1, 5, 3, 3, 1, 3, 4, 0, 1, 5, 4, 2, 2, 2, 4, 4, 1, 3, 5, 2, 6, 2, 2, 2, 1, 2, 3, 4, 4, 3, 2, 3, 2, 2, 3, 2, 5, 2, 3, 4, 7, 4, 0, 2, 5, 2, 4, 4, 2, 1, 3, 3, 2, 3, 1, 3, 1, 5, 2, 4, 6, 7, 6, 4, 4, 2, 2, 4, 2, 3, 6, 2, 3, 2, 3, 2, 3, 5, 3, 2, 4, 2, 4, 6, 2, 2, 2, 2, 2, 4, 2, 2, 6, 3, 3, 5, 4, 1, 6, 1, 3, 2, 3, 4, 3]\n"
     ]
    },
    {
     "name": "stderr",
     "output_type": "stream",
     "text": [
      "c:\\ptuir\\7 semestr\\mmod\\sheesh\\venv\\lib\\site-packages\\ipykernel_launcher.py:25: UserWarning: \n",
      "\n",
      "`distplot` is a deprecated function and will be removed in seaborn v0.14.0.\n",
      "\n",
      "Please adapt your code to use either `displot` (a figure-level function with\n",
      "similar flexibility) or `histplot` (an axes-level function for histograms).\n",
      "\n",
      "For a guide to updating your code to use the new functions, please see\n",
      "https://gist.github.com/mwaskom/de44147ed2974457ad6372750bbe5751\n",
      "\n"
     ]
    },
    {
     "data": {
      "text/plain": [
       "Text(0, 0.5, 'Frequency')"
      ]
     },
     "execution_count": 55,
     "metadata": {},
     "output_type": "execute_result"
    },
    {
     "data": {
      "image/png": "[encoded data removed]",
      "text/plain": [
       "<Figure size 1400x700 with 1 Axes>"
      ]
     },
     "metadata": {},
     "output_type": "display_data"
    }
   ],
   "source": [
    "import numpy as np\n",
    "import matplotlib.pyplot as plt\n",
    "import seaborn as sns\n",
    "# Input variables\n",
    "# Number of trials\n",
    "trials = 1000\n",
    "# Number of independent experiments in each trial\n",
    "n = int(input(\"Введите n для биномиального распредления: \"))\n",
    "# Probability of success for each experiment the more p than graphic shifts righter\n",
    "p = float(input(\"Введите вероятность успеха для каждого испытания: \"))\n",
    "# Function that runs our coin toss trials\n",
    "# heads is a list of the number of successes from each trial of n experiments\n",
    "def run_binom(trials, n, p):\n",
    "    heads = []\n",
    "    for i in range(trials):\n",
    "        tosses = [np.random.random() for i in range(n)]\n",
    "        heads.append(len([i for i in tosses if i<=p]))\n",
    "        # print(tosses)\n",
    "    return heads\n",
    "# Run the function\n",
    "heads = run_binom(trials, n, p)\n",
    "# Plot the results as a histogram\n",
    "fig, ax = plt.subplots(figsize=(14,7))\n",
    "print(heads)\n",
    "ax = sns.distplot(heads, bins=11, label='simulation results')\n",
    "ax.set_xlabel(\"Number of Heads\",fontsize=16)\n",
    "ax.set_ylabel(\"Frequency\",fontsize=16)\n"
   ]
  },
  {
   "cell_type": "code",
   "execution_count": 56,
   "metadata": {
    "pycharm": {
     "name": "#%%\n"
    }
   },
   "outputs": [
    {
     "name": "stdout",
     "output_type": "stream",
     "text": [
      "3.0 2.0999999999999996\n"
     ]
    }
   ],
   "source": [
    "# Дисперсия и мат ожидание (теоретические)\n",
    "D_binom = n*p*(1-p)\n",
    "M_binom = n*p\n",
    "print(M_binom, D_binom)"
   ]
  },
  {
   "cell_type": "code",
   "execution_count": 57,
   "metadata": {
    "pycharm": {
     "name": "#%%\n"
    }
   },
   "outputs": [
    {
     "name": "stdout",
     "output_type": "stream",
     "text": [
      "3.038 2.1727287287287234\n",
      "Доверительный интервал для A = 6, p = 0.95 :\n",
      "( 0.036491632222951584 ,  0.06350836777704842 )\n",
      "0.05\n"
     ]
    }
   ],
   "source": [
    "# точечные оценки\n",
    "m_binom = 0\n",
    "d_binom = 0\n",
    "for i in range(0, len(heads)):\n",
    "    m_binom += heads[i]\n",
    "m_binom /= trials\n",
    "\n",
    "for i in range(0, len(heads)):\n",
    "    d_binom += math.pow((heads[i] - m_binom), 2)\n",
    "d_binom /= (trials - 1)\n",
    "\n",
    "print(m_binom, d_binom)\n",
    "\n",
    "def count_happened(A):\n",
    "    m = 0\n",
    "    for i in range(0, len(heads)):\n",
    "        if heads[i] == A: m += 1\n",
    "    return m\n",
    "\n",
    "#интервальная оценка параметра A\n",
    "A = 6\n",
    "\n",
    "p = 0.95\n",
    "t = 1.96\n",
    "\n",
    "W = count_happened(A) / trials\n",
    "\n",
    "delta = t * math.pow(((W * (1 - W)) / trials), 1/2)\n",
    "\n",
    "print(f'Доверительный интервал для A = {A}, p = {p} :')\n",
    "print('(', W - delta, ', ', W + delta, ')')\n",
    "print(W)"
   ]
  },
  {
   "cell_type": "code",
   "execution_count": 58,
   "metadata": {
    "pycharm": {
     "name": "#%%\n"
    }
   },
   "outputs": [
    {
     "name": "stdout",
     "output_type": "stream",
     "text": [
      "Введите вероятность успеха для каждого испытания:0.2\n",
      "0.6416907814853232\n",
      "True\n"
     ]
    }
   ],
   "source": [
    "prob = float(input(\"Введите вероятность успеха для каждого испытания:\"))\n",
    "\n",
    "xhi = 0\n",
    "for i in range(0, n):\n",
    "    n_i = count_happened(i) / trials\n",
    "    if n_i != 0:\n",
    "        xhi = xhi + (n_i - binompmf(i,n,prob)) * (n_i - binompmf(i,n,prob)) / n_i\n",
    "print(xhi)\n",
    "print(xhi < stats.chi2.ppf(0.95, n - 3))"
   ]
  },
  {
   "cell_type": "code",
   "execution_count": 23,
   "metadata": {
    "pycharm": {
     "name": "#%%\n"
    }
   },
   "outputs": [],
   "source": []
  }
 ],
 "metadata": {
  "kernelspec": {
   "display_name": "Python 3 (ipykernel)",
   "language": "python",
   "name": "python3"
  },
  "language_info": {
   "codemirror_mode": {
    "name": "ipython",
    "version": 3
   },
   "file_extension": ".py",
   "mimetype": "text/x-python",
   "name": "python",
   "nbconvert_exporter": "python",
   "pygments_lexer": "ipython3",
   "version": "3.7.8"
  }
 },
 "nbformat": 4,
 "nbformat_minor": 1
}